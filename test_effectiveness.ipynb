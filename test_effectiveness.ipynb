{
 "cells": [
  {
   "cell_type": "code",
   "execution_count": 1,
   "id": "04ef0cda",
   "metadata": {},
   "outputs": [],
   "source": [
    "import pandas as pd\n",
    "import random\n",
    "import numpy as np\n",
    "import BTree as bt\n",
    "import time\n",
    "import sys\n",
    "import string\n",
    "import BRetrieval as bre\n"
   ]
  },
  {
   "cell_type": "code",
   "execution_count": 2,
   "id": "7fe26d90",
   "metadata": {},
   "outputs": [
    {
     "name": "stdout",
     "output_type": "stream",
     "text": [
      "Preprocessing text...\n",
      "Building Positional Inverted Index...\n",
      "Building BTree...\n",
      "4889 nodes in the tree\n"
     ]
    }
   ],
   "source": [
    "dataset_location = 'dataset/news_summary.csv'\n",
    "data = pd.read_csv(dataset_location, encoding='latin') \n",
    "input_column = 'text'\n",
    "brs = bre.BRetrievalSystem(data, input_column,500)"
   ]
  },
  {
   "cell_type": "code",
   "execution_count": 3,
   "id": "5225ee3d",
   "metadata": {},
   "outputs": [
    {
     "name": "stdout",
     "output_type": "stream",
     "text": [
      "Documents matching the query:\n",
      "['145', '159', '169', '180', '194', '203', '209', '210', '214', '232', '24', '251', '281', '296', '3', '30', '31', '315', '354', '475', '93', '98']\n",
      "(145, \"The Supreme Court on Tuesday agreed to hear a plea seeking cancellation of Bihar CM Nitish Kumar's state Legislative Council membership for allegedly hiding a pending criminal case against him. According to the plea, Kumar was accused of killing a Congress leader in 1991. The petitioner also sought a direction to the CBI to register an FIR against Kumar.\")\n",
      "(159, \"Lashkar-e-Taiba's Kashmir Chief Abu Dujana has been killed in an encounter with security forces in Pulwama district of Jammu and Kashmir. His accomplice has also been terminated by the forces. He is the third top militant leader killed since last year following Hizbul Mujahideen leaders Burhan Wani and Sabzar Bhat.\")\n",
      "(169, 'Congress leader Mallikarjun Kharge on Monday said, \"Don\\'t make lynchistan out of Hindustan\" and blamed the BJP-led NDA government in the Lok Sabha for encouraging cow vigilantism. Pointing to incidents of mob violence in Jharkhand, Madhya Pradesh, Rajasthan and Uttar Pradesh, he slammed Prime Minister Narendra Modi for not addressing the killings on \\'Mann Ki Baat\\' programme.')\n",
      "(180, 'Chhattisgarh Chief Minister Raman Singh on Sunday announced that ambulance service for cows will be started in 10 districts of the state over the next few months. He also urged people to support organic farming and biogas in order to promote a cow-based economy. Earlier this year, Singh had said that anyone found killing cows in Chhattisgarh will be hanged.')\n",
      "(194, 'At least 213 lives have been lost and over 80,000 have been relocated due to floods in Gujarat. As many as 4,000 animals have also been killed in the flood, with an estimate of over a million households and farmlands being affected. PM Narendra Modi recently assured relief operations were being carried out on massive scale in the flood-affected areas.')\n",
      "(203, \"A 14-year-old Mumbai boy killed himself on Saturday after jumping off the terrace of a seven-storey building. Police suspect that the boy was addicted to the online game 'Blue Whale' which demands players to complete 50 tasks in 50 days, with the last task being committing suicide. However, the police is officially yet to find the reason for his suicide.\")\n",
      "(209, 'A woman in Assam killed her husband for allegedly raping their teenage daughter. \"The woman alleges that her husband routinely misbehaved with their daughter and had even raped her. That\\'s the reason she decided to kill him,\" police said. Husband\\'s body was found in a field by villagers and bore several wound marks, probably inflicted by a sharp dagger. ')\n",
      "(210, 'A Kerala BJP unit has alleged that CPI(M) workers hurled a petrol bomb at an RSS office in the state, causing damage to the building. This was followed by CPI(M) blaming BJP-RSS activists for pelting stones at a committee office of CPI(M) trade union-wing CITU. Notably, the state has been witnessing unrest after an RSS worker was killed last week.')\n",
      "(214, \"At least 10 people, including an election candidate, were killed on Sunday in violent protests which erupted as the country voted for a new legislative body tasked with rewriting the Constitution. The country's opposition parties boycotted the vote, which they say is aimed at consolidating President Nicolas Maduro's power and is a bid to install a dictatorship.\")\n",
      "(232, 'Gujarat Assembly speaker Ramanlal Vohra on Sunday slammed Congress legislators who have been staying at a Bengaluru resort amid the ongoing Gujarat floods. \"I don\\'t know what MLAs are doing there in Karnataka. In such situations we should pay more attention to improve situation and not to play politics,\" he said. Over 120 people have been killed in Gujarat floods. ')\n",
      "(24, 'Two sunbathers, a 56-year-old man and an eight-year-old girl, were killed on Wednesday when a light plane struck them while making an emergency landing at a beach in Portugal. The others had run into the sea to save themselves. The two occupants of the plane, which appeared to be in difficulty and had a partly broken left wing, were unhurt.')\n",
      "(251, 'A man set himself on fire in Sydney protesting against the Australian Immigration Department on Friday, reports said. Adding that the police negotiated with the man for 8-10 minutes before he set himself alight, officials said the man was \"deeply disturbed and upset\". He \"would have killed himself\" if police had not doused him with a fire extinguisher, they added.')\n",
      "(281, \"A car reportedly rammed into 3 men working on a flyover on Mumbai's Western Express Highway on Friday afternoon, killing two and injuring one. The driver and a passenger survived the crash and fled from the scene. The driver was later arrested from his house and booked under IPC sections 304 (A) (causing death by negligence) and 279 (rash driving). \")\n",
      "(296, 'Body parts have been found on Mont Blanc in the French Alps that might belong to passengers killed in one of the two Air India plane crashes over 50 years ago. Daniel Roche, who spent years combing glaciers looking for remains, found a hand and part of a leg. Roche also found one jet engine of 1966 Air India flight.')\n",
      "(3, 'Lashkar-e-Taiba\\'s Kashmir commander Abu Dujana, who was killed by security forces, said \"Kabhi hum aage, kabhi aap, aaj aapne pakad liya, mubarak ho aapko (Today you caught me. Congratulations)\" after being caught. He added that he won\\'t surrender, and whatever is in his fate will happen to him. \"Hum nikley they shaheed hone (had left home for martyrdom),\" he added.')\n",
      "(30, 'Jammu and Kashmir Police have approached the Pakistan High Commission asking them to claim the body of Lashkar-e-Taiba commander Abu Dujana, who was killed by security forces on Tuesday. Notably, this is the first time the authorities have approached the High Commission asking them to claim the body of any Pakistani national killed in an anti-militancy operation in the state.')\n",
      "(31, \"Abu Ismail, mastermind of the Amarnath Yatra attack, will reportedly replace Abu Dujana as the Kashmir division chief of Lashkar-e-Taiba (LeT). Dujana was killed by the security forces on Tuesday after a seven-hour gunfight in south Kashmir's Pulwama district. Notably, eight pilgrims were killed and 18 were injured in the Amarnath Yatra attack last month. \")\n",
      "(315, 'Congress Vice President Rahul Gandhi accused Chhattisgarh\\'s ruling party BJP of killing Dalits, tribals and small traders for the sake of power. Gandhi went on to term BJP as the \"party of lies\" and urged his party functionaries to defeat BJP with Congress\\' \"power of truth\". He advised party workers on how to effectively use social media to mobilise support.')\n",
      "(354, 'Shyamwar Rai, the driver who turned approver in the Sheena Bora murder case, told the court on Friday that Indrani Mukerjea once said to him that she wanted to kill Sheena and Mikhail. \"Indrani madam asked me to drive towards Taj Lands End (Mumbai). She sat on Sheena\\'s face and strangulated her to death,\" he added.')\n",
      "(475, \"A war memorial built to honour soldiers killed during the 1962 Indo-China War was reportedly vandalised on Tuesday in Gurugram's Palam Vihar. Officials managing the memorial said several stone benches and floodlights were broken. The memorial was built in 2012 in memory of the 114 soldiers who were killed during the battle at Rezang La Pass in 1962. \")\n",
      "(93, \"A 25-year-old man from Jammu and Kashmir accused of rape committed suicide after the Panchayat directed him to drink urine of the victim. Police said he also recorded an audio clip before killing himself, wherein he claimed of never raping the girl. The Panchayat's initial direction was to compensate the girl's family with money, which the man refused, police added.\")\n",
      "(98, \"As many as 13 people died while travelling in Mumbai's local trains on Sunday, according to railway data. Almost 1,600 people have been killed while travelling in trains in the past six months, it added. Of the 1,600, 700 lost their lives by falling off the train,147 were killed while crossing railway tracks, and 20 people died of electric shock. \")\n"
     ]
    }
   ],
   "source": [
    "# I try to find articles about police cases, I'll just search the word 'kill' to assess the relevance of the documents\n",
    "query = 'kill'\n",
    "\n",
    "# This is a list of documents I consider relevant for police cases\n",
    "relevant_documents = ['114', '128', '144', '145' '149', '151', '155', '158', '159', '175', '196', '200', \n",
    "                                         '203', '204', '209', '214', '217', '222', '231', '251', '24', '27', '275', '277', \n",
    "                                         '281','282', '290', '296','30', '303', '307', '316', '329', '333', '3', '30' '34', \n",
    "                                          '31', '356', '375', '39', '392', '398', '4', '400', '401', '402', '403', \n",
    "                                         '406', '412', '441', '442', '443', '449', '457', '476', '477', '480', \n",
    "                                         '49', '499', '5', '62', '79', '80', '81', '91', '93']\n",
    "\n",
    "brs.print_result(query)\n",
    "#result = ['145', '159', '169', '180', '194', '203', '209', '210', '214', '232', '24', '251', \n",
    "#          '281', '296', '3', '30', '31', '315', '354', '475', '93', '98']\n",
    "\n"
   ]
  },
  {
   "cell_type": "code",
   "execution_count": 4,
   "id": "4d430c8e",
   "metadata": {},
   "outputs": [],
   "source": [
    "# '145' Relevant\n",
    "# '159' Relevant\n",
    "# '169' Not Relevant\n",
    "# '180' Not Relevant\n",
    "# '194' Not Relevant\n",
    "# '203' Relevant\n",
    "# '209' Relevant\n",
    "# '210' Not Relevant\n",
    "# '214' Relevant\n",
    "# '232' Not Relevant\n",
    "# '24'  Relevant\n",
    "# '251' Relevant\n",
    "# '281' Relevant\n",
    "# '296' Relevant\n",
    "# '3'   Relevant\n",
    "# '30'  Relevant\n",
    "# '31'  Relevant\n",
    "# '315' Not Relevant\n",
    "# '354' Not Relevant\n",
    "# '475' Not Relevant\n",
    "# '93'  Relevant\n",
    "# '98'  Not Relevant\n",
    "\n",
    "# Relevant = 1,  Not Relevant = 0\n",
    "\n",
    "\n",
    "# I already checked the result\n",
    "results = [1,1,0,0,0,1,1,0,1,0,1,1,1,1,1,1,1,0,0,0,1,0]\n",
    "\n",
    "# Compute precision and recall values\n",
    "precision = []\n",
    "recall = []\n",
    "\n",
    "for i in range(0, len(results)):\n",
    "    precision.append(sum(results[0:i+1])/(i+1))\n",
    "    recall.append(sum(results[0:i+1])/len(relevant_documents))\n",
    "\n",
    "#print(precision)\n",
    "#print(recall)"
   ]
  },
  {
   "cell_type": "code",
   "execution_count": 12,
   "id": "9550470e",
   "metadata": {},
   "outputs": [
    {
     "data": {
      "text/plain": [
       "(0.0, 1.0)"
      ]
     },
     "execution_count": 12,
     "metadata": {},
     "output_type": "execute_result"
    },
    {
     "data": {
      "image/png": "[encoded data removed]",
      "text/plain": [
       "<Figure size 640x480 with 1 Axes>"
      ]
     },
     "metadata": {},
     "output_type": "display_data"
    }
   ],
   "source": [
    "import matplotlib.pyplot as plt\n",
    "plt.plot(recall, precision, label='p vs r')\n",
    "plt.title('Precision vs Recall')\n",
    "plt.xlabel('Recall')\n",
    "plt.ylabel('Precision')\n",
    "plt.xlim([0, 1])\n",
    "plt.ylim([0, 1])\n"
   ]
  },
  {
   "cell_type": "code",
   "execution_count": null,
   "id": "40cf7f68",
   "metadata": {},
   "outputs": [],
   "source": []
  }
 ],
 "metadata": {
  "kernelspec": {
   "display_name": "Python 3 (ipykernel)",
   "language": "python",
   "name": "python3"
  },
  "language_info": {
   "codemirror_mode": {
    "name": "ipython",
    "version": 3
   },
   "file_extension": ".py",
   "mimetype": "text/x-python",
   "name": "python",
   "nbconvert_exporter": "python",
   "pygments_lexer": "ipython3",
   "version": "3.9.13"
  }
 },
 "nbformat": 4,
 "nbformat_minor": 5
}
