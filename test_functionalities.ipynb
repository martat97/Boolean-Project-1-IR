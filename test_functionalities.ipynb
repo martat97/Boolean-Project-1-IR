{
 "cells": [
  {
   "cell_type": "code",
   "execution_count": 4,
   "id": "0fc499b5",
   "metadata": {},
   "outputs": [],
   "source": [
    "#Tests of functionalities of the IR System\n",
    "\n",
    "\n",
    "#Libraries\n",
    "import pandas as pd\n",
    "import random\n",
    "import numpy as np\n",
    "import BTree as bt\n",
    "import time\n",
    "import sys\n",
    "import string\n",
    "import BRetrieval as bre\n",
    "pd.options.mode.chained_assignment = None  # default='warn'\n"
   ]
  },
  {
   "cell_type": "code",
   "execution_count": 17,
   "id": "f676bf0c",
   "metadata": {},
   "outputs": [
    {
     "name": "stdout",
     "output_type": "stream",
     "text": [
      "Preprocessing text...\n",
      "Building Positional Inverted Index...\n",
      "Building BTree...\n",
      "31 nodes in the tree\n",
      "Building Positional Inverted Index...\n"
     ]
    }
   ],
   "source": [
    "#SIMPLE TEST DOCUMENTS (about cats and dogs)\n",
    "documents =['The cat was sleeping yesterday',\n",
    "            'I was wondering if a cat can sleep for more than 20 hours. Is it possible?',\n",
    "            'Im very happy today, because I saw a beautiful cat on the street',\n",
    "            'The dog was so angry he could attack me. I was scared',\n",
    "            'I love playing with dogs. I love dogs.',\n",
    "            'This is the first time she has ever seen a dog in her life. So bad',\n",
    "            'OMG, what is going on today. Why is my dog feeling so bad? I will take him to the doctor..']\n",
    "\n",
    "data = pd.DataFrame({\"doc\": documents})\n",
    "input_column = 'doc'\n",
    "data\n",
    "\n",
    "brs = bre.BRetrievalSystem(data, input_column, 1000) #"
   ]
  },
  {
   "cell_type": "code",
   "execution_count": 11,
   "id": "a6fb6f9c",
   "metadata": {},
   "outputs": [
    {
     "data": {
      "text/plain": [
       "['The cat was sleeping yesterday',\n",
       " 'I was wondering if a cat can sleep for more than 20 hours. Is it possible?',\n",
       " 'Im very happy today, because I saw a beautiful cat on the street',\n",
       " 'The dog was so angry he could attack me. I was scared',\n",
       " 'I love playing with dogs. I love playing with dogs.',\n",
       " 'This is the first time she has ever seen a dog in her life. So bad',\n",
       " 'OMG, what is going on today. Why is my dog feeling so bad? I will take him to the doctor..']"
      ]
     },
     "execution_count": 11,
     "metadata": {},
     "output_type": "execute_result"
    }
   ],
   "source": [
    "documents"
   ]
  },
  {
   "cell_type": "code",
   "execution_count": 21,
   "id": "22e4fbb8",
   "metadata": {},
   "outputs": [],
   "source": [
    "#Check if the positional inverted index is built properly\n",
    "#brs.inv_index_pos"
   ]
  },
  {
   "cell_type": "code",
   "execution_count": 13,
   "id": "b0be1c04",
   "metadata": {},
   "outputs": [],
   "source": [
    "#Check if the btree is built properly\n",
    "#brs.btree.print_tree(brs.btree.root)"
   ]
  },
  {
   "cell_type": "code",
   "execution_count": 22,
   "id": "1015ea10",
   "metadata": {},
   "outputs": [
    {
     "name": "stdout",
     "output_type": "stream",
     "text": [
      "Documents matching the query:\n",
      "['0', '1', '2']\n",
      "(0, 'The cat was sleeping yesterday')\n",
      "(1, 'I was wondering if a cat can sleep for more than 20 hours. Is it possible?')\n",
      "(2, 'Im very happy today, because I saw a beautiful cat on the street')\n",
      "I expect 0,1,2\n",
      "\n",
      "Documents matching the query:\n",
      "['5', '6']\n",
      "(5, 'This is the first time she has ever seen a dog in her life. So bad')\n",
      "(6, 'OMG, what is going on today. Why is my dog feeling so bad? I will take him to the doctor..')\n",
      "I expect 5,6\n",
      "\n",
      "Documents matching the query:\n",
      "['2', '3', '5', '6']\n",
      "(2, 'Im very happy today, because I saw a beautiful cat on the street')\n",
      "(3, 'The dog was so angry he could attack me. I was scared')\n",
      "(5, 'This is the first time she has ever seen a dog in her life. So bad')\n",
      "(6, 'OMG, what is going on today. Why is my dog feeling so bad? I will take him to the doctor..')\n",
      "I expect 2,3,5,6\n",
      "\n",
      "Documents matching the query:\n",
      "['3', '4', '6']\n",
      "(3, 'The dog was so angry he could attack me. I was scared')\n",
      "(4, 'I love playing with dogs. I love dogs.')\n",
      "(6, 'OMG, what is going on today. Why is my dog feeling so bad? I will take him to the doctor..')\n",
      "I expect 3,4,6\n"
     ]
    }
   ],
   "source": [
    "#1. TEST WITH SINGLE WORDS QUERIES\n",
    "\n",
    "query = 'cat'\n",
    "brs.print_result(query)\n",
    "print('I expect 0,1,2')\n",
    "\n",
    "print('')\n",
    "\n",
    "query = 'dog & bad'\n",
    "brs.print_result(query)\n",
    "print('I expect 5,6')\n",
    "\n",
    "print('')\n",
    "\n",
    "query = 'street | attack | bad'\n",
    "brs.print_result(query)\n",
    "print('I expect 2,3,5,6')\n",
    "\n",
    "print('')\n",
    "query = '^cat & ^first'\n",
    "brs.print_result(query)\n",
    "print('I expect 3,4,6')\n",
    "\n"
   ]
  },
  {
   "cell_type": "code",
   "execution_count": null,
   "id": "03da1d10",
   "metadata": {},
   "outputs": [],
   "source": [
    "#documents"
   ]
  },
  {
   "cell_type": "code",
   "execution_count": 19,
   "id": "bb434654",
   "metadata": {},
   "outputs": [
    {
     "name": "stdout",
     "output_type": "stream",
     "text": [
      "Documents matching the query:\n",
      "['5']\n",
      "(5, 'This is the first time she has ever seen a dog in her life. So bad')\n",
      "\n",
      "The term \"so\" is a stopword, it is removed from the query\n",
      "Documents matching the query:\n",
      "['5', '6']\n",
      "(5, 'This is the first time she has ever seen a dog in her life. So bad')\n",
      "(6, 'OMG, what is going on today. Why is my dog feeling so bad? I will take him to the doctor..')\n",
      "\n",
      "The term \"so\" is a stopword, it is removed from the query\n",
      "Documents matching the query:\n",
      "['0', '1', '5', '6']\n",
      "(0, 'The cat was sleeping yesterday')\n",
      "(1, 'I was wondering if a cat can sleep for more than 20 hours. Is it possible?')\n",
      "(5, 'This is the first time she has ever seen a dog in her life. So bad')\n",
      "(6, 'OMG, what is going on today. Why is my dog feeling so bad? I will take him to the doctor..')\n",
      "\n",
      "Documents matching the query:\n",
      "['0', '1', '4']\n",
      "(0, 'The cat was sleeping yesterday')\n",
      "(1, 'I was wondering if a cat can sleep for more than 20 hours. Is it possible?')\n",
      "(4, 'I love playing with dogs. I love dogs.')\n",
      "\n"
     ]
    }
   ],
   "source": [
    "#2. TEST WITH PHRASE QUERIES\n",
    "query = 'first time'\n",
    "brs.print_result(query)\n",
    "print('I expect 5')\n",
    "\n",
    "print('')\n",
    "\n",
    "query = 'so bad'\n",
    "brs.print_result(query)\n",
    "print('I expect 5,6')\n",
    "\n",
    "print('')\n",
    "\n",
    "query = 'cat sleep | so bad'\n",
    "brs.print_result(query)\n",
    "print('I expect 0,1,5,6')\n",
    "\n",
    "print('')\n",
    "\n"
   ]
  },
  {
   "cell_type": "code",
   "execution_count": 20,
   "id": "8cda2951",
   "metadata": {},
   "outputs": [
    {
     "name": "stdout",
     "output_type": "stream",
     "text": [
      "\n",
      "Terms matching the wildcard c*\n",
      "['cat', 'could']\n",
      "\n",
      "Documents matching the query:\n",
      "['0', '1', '2', '3']\n",
      "(0, 'The cat was sleeping yesterday')\n",
      "(1, 'I was wondering if a cat can sleep for more than 20 hours. Is it possible?')\n",
      "(2, 'Im very happy today, because I saw a beautiful cat on the street')\n",
      "(3, 'The dog was so angry he could attack me. I was scared')\n",
      "\n",
      "\n",
      "Terms matching the wildcard *y\n",
      "['play', 'today', 'yesterday']\n",
      "\n",
      "\n",
      "Terms matching the wildcard *er*\n",
      "['ever', 'wonder', 'yesterday']\n",
      "\n",
      "Documents matching the query:\n",
      "['0', '1', '2', '4', '5', '6']\n",
      "(0, 'The cat was sleeping yesterday')\n",
      "(1, 'I was wondering if a cat can sleep for more than 20 hours. Is it possible?')\n",
      "(2, 'Im very happy today, because I saw a beautiful cat on the street')\n",
      "(4, 'I love playing with dogs. I love dogs.')\n",
      "(5, 'This is the first time she has ever seen a dog in her life. So bad')\n",
      "(6, 'OMG, what is going on today. Why is my dog feeling so bad? I will take him to the doctor..')\n",
      "\n",
      "\n",
      "Terms matching the wildcard *cat*\n",
      "['cat']\n",
      "\n",
      "\n",
      "Terms matching the wildcard *dog*\n",
      "['dog']\n",
      "\n",
      "Documents matching the query:\n",
      "['0', '1', '2', '3', '4', '5', '6']\n",
      "(0, 'The cat was sleeping yesterday')\n",
      "(1, 'I was wondering if a cat can sleep for more than 20 hours. Is it possible?')\n",
      "(2, 'Im very happy today, because I saw a beautiful cat on the street')\n",
      "(3, 'The dog was so angry he could attack me. I was scared')\n",
      "(4, 'I love playing with dogs. I love dogs.')\n",
      "(5, 'This is the first time she has ever seen a dog in her life. So bad')\n",
      "(6, 'OMG, what is going on today. Why is my dog feeling so bad? I will take him to the doctor..')\n",
      "\n"
     ]
    }
   ],
   "source": [
    "#3. TEST WITH WILDCARDS\n",
    "\n",
    "query = 'c*'\n",
    "brs.print_result(query)\n",
    "#terms = [cat,could] (can is a stopword)\n",
    "print('I expect 0,1,2,3')\n",
    "\n",
    "print('')\n",
    "\n",
    "query = '*y | *er*'\n",
    "brs.print_result(query)\n",
    "#I expect \n",
    "#terms = [cat,could] (can is a stopword)\n",
    "\n",
    "print('')\n",
    "\n",
    "query = '*cat* | *dog*'\n",
    "brs.print_result(query)\n",
    "print('I expect all the documents')\n",
    "\n",
    "print('')\n"
   ]
  },
  {
   "cell_type": "code",
   "execution_count": null,
   "id": "4c468434",
   "metadata": {},
   "outputs": [],
   "source": [
    "#documents"
   ]
  },
  {
   "cell_type": "code",
   "execution_count": 23,
   "id": "03539fb3",
   "metadata": {},
   "outputs": [
    {
     "name": "stdout",
     "output_type": "stream",
     "text": [
      "No results found for term \"catz\"\n",
      "Did you mean \"cat\"?\n",
      "\n",
      "Documents matching the query:\n",
      "[]\n",
      "None\n",
      "\n",
      "No results found for term \"ffffdog\"\n",
      "Did you mean \"dog\"?\n",
      "\n",
      "No results found for term \"lovek\"\n",
      "Did you mean \"love\"?\n",
      "\n",
      "Documents matching the query:\n",
      "[]\n",
      "None\n",
      "\n",
      "Documents matching the query:\n",
      "[]\n",
      "None\n",
      "\n"
     ]
    }
   ],
   "source": [
    "#4. TEST WITH SPELLING CORRECTION/STOP WORDS\n",
    "\n",
    "query = 'catz'\n",
    "brs.print_result(query)\n",
    "#I expect the correction with the word 'cat'\n",
    "\n",
    "print('')\n",
    "\n",
    "query = 'ffffdog | lovek'\n",
    "brs.print_result(query)\n",
    "#I expect the correction with 'dog' and 'love'\n",
    "\n",
    "print('')\n",
    "\n",
    "query = ''\n",
    "brs.print_result(query)\n",
    "#I expect nothing!\n",
    "\n",
    "print('')"
   ]
  },
  {
   "cell_type": "code",
   "execution_count": 25,
   "id": "1a52581f",
   "metadata": {},
   "outputs": [
    {
     "name": "stdout",
     "output_type": "stream",
     "text": [
      "The term \"the\" is a stopword, it is removed from the query\n",
      "\n",
      "Terms matching the wildcard cat*\n",
      "['cat']\n",
      "\n",
      "The term \"the\" is a stopword, it is removed from the query\n",
      "\n",
      "Terms matching the wildcard *dog\n",
      "['dog']\n",
      "\n",
      "\n",
      "Terms matching the wildcard cat*\n",
      "['cat']\n",
      "\n",
      "\n",
      "Terms matching the wildcard *at\n",
      "['cat']\n",
      "\n",
      "\n",
      "Terms matching the wildcard aaa*\n",
      "[]\n",
      "\n",
      "Documents matching the query:\n",
      "['0', '1', '2']\n",
      "(0, 'The cat was sleeping yesterday')\n",
      "(1, 'I was wondering if a cat can sleep for more than 20 hours. Is it possible?')\n",
      "(2, 'Im very happy today, because I saw a beautiful cat on the street')\n",
      "\n"
     ]
    }
   ],
   "source": [
    "#5 TEST WITH LONG QUERY\n",
    "\n",
    "query = 'the cat* | the *dog | cat & cat* & *at & ^dog & ^aaa*'\n",
    "brs.print_result(query)\n",
    "#I expect just the results with 'cat': 0,1,2\n",
    "\n",
    "print('')"
   ]
  },
  {
   "cell_type": "code",
   "execution_count": null,
   "id": "6feefcda",
   "metadata": {},
   "outputs": [],
   "source": [
    "\n"
   ]
  },
  {
   "cell_type": "code",
   "execution_count": null,
   "id": "5da3dea0",
   "metadata": {},
   "outputs": [],
   "source": []
  }
 ],
 "metadata": {
  "kernelspec": {
   "display_name": "Python 3 (ipykernel)",
   "language": "python",
   "name": "python3"
  },
  "language_info": {
   "codemirror_mode": {
    "name": "ipython",
    "version": 3
   },
   "file_extension": ".py",
   "mimetype": "text/x-python",
   "name": "python",
   "nbconvert_exporter": "python",
   "pygments_lexer": "ipython3",
   "version": "3.9.13"
  }
 },
 "nbformat": 4,
 "nbformat_minor": 5
}
