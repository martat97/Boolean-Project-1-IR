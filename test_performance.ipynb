{
 "cells": [
  {
   "cell_type": "code",
   "execution_count": null,
   "id": "e0c275bb",
   "metadata": {},
   "outputs": [],
   "source": [
    "import pandas as pd\n",
    "import BRetrieval as bre\n",
    "import time\n",
    "\n",
    "# SOME PERFORMANCE TESTS\n",
    "# 1. Which phase of building the IR system takes the most time?\n",
    "# 2. Which kind of queries takes the most time?\n",
    "# 3. Do I improve efficiency with Btree in a meaningful way?\n",
    "\n",
    "\n",
    "# Create the object\n",
    "\n",
    "data = pd.read_csv('dataset/news_summary.csv', encoding='latin') \n",
    "input_column = 'text'\n",
    "\n",
    "brs = bre.BRetrievalSystem(data, input_column, 1000)"
   ]
  },
  {
   "cell_type": "code",
   "execution_count": null,
   "id": "e84e0ac6",
   "metadata": {},
   "outputs": [],
   "source": [
    "# 1\n",
    "#Functions time\n",
    "#I call again the functions to initialize variables\n",
    "#I measure the time for each phase: preprocessing, inverted index building, btree building\n",
    "start = time.time()\n",
    "for i in range(0,5):\n",
    "    brs.data = brs.preprocessing()\n",
    "end = time.time()\n",
    "print(\"PREPROCESSING TIME ELAPSED: \" + str(end - start))\n",
    "print('')\n",
    "\n",
    "start = time.time()\n",
    "for i in range(0,5):\n",
    "    brs.inv_index_pos = brs.inv_index_pos_builder()\n",
    "end = time.time()\n",
    "print(\"BUILDING POSITIONAL INVERTED INDEX TIME ELAPSED: \" + str(end - start))\n",
    "print('')\n",
    "\n",
    "start = time.time()\n",
    "for i in range(0,5):\n",
    "    brs.btree = brs.btree_builder()\n",
    "end = time.time()\n",
    "print(\"BUILDING BTREE TIME ELAPSED: \" + str(end - start))\n",
    "print('')\n",
    "\n",
    "\n",
    "#Results: Positional Inverted Index is the highest\n"
   ]
  },
  {
   "cell_type": "code",
   "execution_count": null,
   "id": "0b3b5805",
   "metadata": {},
   "outputs": [],
   "source": [
    "# 2\n",
    "\n",
    "# I already know that in this index the term 'zulpikar' is in the last terms (to increase complexity)\n",
    "\n",
    "#Create a big query with OR (higher complexity than AND) and NOT operations \n",
    "query = ''\n",
    "piece = 'zulpikar'\n",
    "for i in range(0,50):\n",
    "    query = query + '^'\n",
    "    query = query + piece\n",
    "    query = query + ' | '\n",
    "query = query + piece    \n",
    "\n",
    "start = time.time()\n",
    "for i in range(0,5):\n",
    "    brs.print_result(query)\n",
    "end = time.time()\n",
    "#I should obtain all the documents in the dataset\n",
    "#Of course the program will print a lot\n"
   ]
  },
  {
   "cell_type": "code",
   "execution_count": null,
   "id": "2d95ae8e",
   "metadata": {},
   "outputs": [],
   "source": [
    "print(\"QUERY TIME ELAPSED IN ANSWERING QUERY (normal terms): \" + str(end - start))\n",
    "print('') \n",
    "\n",
    "# I repeated the query 5 times like in the other phases\n",
    "# The time of Building the inverted index is still higher than query performing"
   ]
  },
  {
   "cell_type": "code",
   "execution_count": null,
   "id": "9a70367c",
   "metadata": {},
   "outputs": [],
   "source": [
    "#What happens with wildcards?\n",
    "#Create a big query with OR (higher complexity than AND) and NOT operations \n",
    "query = ''\n",
    "piece = '*zulpikar*'\n",
    "for i in range(0,50):\n",
    "    query = query + '^'\n",
    "    query = query + piece\n",
    "    query = query + ' | '\n",
    "query = query + piece    \n",
    "\n",
    "start = time.time()\n",
    "for i in range(0,5):\n",
    "    brs.print_result(query)\n",
    "end = time.time()\n",
    "#I should obtain all the documents in the dataset\n",
    "#(Of course the program will print a lot)\n"
   ]
  },
  {
   "cell_type": "code",
   "execution_count": null,
   "id": "8887b0c9",
   "metadata": {},
   "outputs": [],
   "source": [
    "print(\"QUERY TIME ELAPSED IN ANSWERING QUERY (wildcards): \" + str(end - start))\n",
    "print('') "
   ]
  },
  {
   "cell_type": "code",
   "execution_count": null,
   "id": "fa0a8988",
   "metadata": {},
   "outputs": [],
   "source": [
    "# 3 \n",
    "# TIME OF: BTREE SEARCH VS LINEAR SEARCH (I repeat 50 times the function)\n",
    "\n",
    "new_dataset = pd.DataFrame(columns=['term','docId','rotations'])\n",
    "\n",
    "\n",
    "start = time.time()\n",
    "for i in range(0,50):\n",
    "    term = brs.btree.search_key('zulpikar', new_dataset) #btree search (log complexity)\n",
    "end = time.time()\n",
    "\n",
    "print('Term found?')\n",
    "print(term1['term'] == 'zulpikar')\n",
    "\n",
    "timebtree = end - start\n",
    "print(\"QUERY TIME ELAPSED IN BTREE SEARCH: \" + str(timebtree))\n",
    "print('') "
   ]
  },
  {
   "cell_type": "code",
   "execution_count": null,
   "id": "38023196",
   "metadata": {},
   "outputs": [],
   "source": [
    "column = brs.inv_index_pos['term']\n",
    "i = 0\n",
    "\n",
    "start = time.time()\n",
    "for i in range(0,50):\n",
    "    while (i < len(column) and column[i]!='zulpikar'): #linear search into the inverted index (linear complxity)\n",
    "        i+=1\n",
    "end = time.time()    \n",
    "\n",
    "print('Term found?')\n",
    "print(column[i] == 'zulpikar')\n",
    "\n",
    "timeindex = end - start\n",
    "print(\"QUERY TIME ELAPSED IN INVERTED INDEX SEARCH: \" + str(timeindex))\n",
    "print('') "
   ]
  },
  {
   "cell_type": "code",
   "execution_count": null,
   "id": "99b08eca",
   "metadata": {},
   "outputs": [],
   "source": [
    "#Conclusions:\n",
    "\n",
    "#1 Building of the Inverted Index spends the most time, but of course preprocessing phase \"takes its time\"\n",
    "#2 Time for answering wildcard queries increases a lot\n",
    "#3 Time for searching linearly in the inverted index is pretty higher. The use of Btree increases the efficiency a lot\n",
    "\n",
    "#Possible (future) improvements? \n",
    "#Of course keep the Btree to improve efficiency, chosing the right t (n = 2t-1)\n",
    "#Try to find less expensive ways to build the inverted index and reduce preprocessing phase if it takes too much time. "
   ]
  },
  {
   "cell_type": "code",
   "execution_count": null,
   "id": "c2ccd800",
   "metadata": {},
   "outputs": [],
   "source": []
  }
 ],
 "metadata": {
  "kernelspec": {
   "display_name": "Python 3 (ipykernel)",
   "language": "python",
   "name": "python3"
  },
  "language_info": {
   "codemirror_mode": {
    "name": "ipython",
    "version": 3
   },
   "file_extension": ".py",
   "mimetype": "text/x-python",
   "name": "python",
   "nbconvert_exporter": "python",
   "pygments_lexer": "ipython3",
   "version": "3.9.13"
  }
 },
 "nbformat": 4,
 "nbformat_minor": 5
}
